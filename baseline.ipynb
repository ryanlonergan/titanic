{
 "cells": [
  {
   "cell_type": "code",
   "id": "initial_id",
   "metadata": {
    "collapsed": true,
    "ExecuteTime": {
     "end_time": "2024-05-16T01:21:12.838201Z",
     "start_time": "2024-05-16T01:21:12.832951Z"
    }
   },
   "source": [
    "import numpy as np\n",
    "import pandas as pd"
   ],
   "outputs": [],
   "execution_count": 2
  },
  {
   "metadata": {
    "ExecuteTime": {
     "end_time": "2024-05-16T01:21:14.769488Z",
     "start_time": "2024-05-16T01:21:14.732047Z"
    }
   },
   "cell_type": "code",
   "source": [
    "# Loading datasets\n",
    "train = pd.read_csv('./data/train.csv')\n",
    "test = pd.read_csv('./data/test.csv')"
   ],
   "id": "b7447cc5099163fe",
   "outputs": [],
   "execution_count": 3
  },
  {
   "metadata": {},
   "cell_type": "markdown",
   "source": [
    "# Reasoning\n",
    "\n",
    "After abandoning this project for a long time, I wanted to finish it. However, despite my notes, I was not really sure what my thought process was when I last worked on it. Therefore, I wanted to start the project again, incorporating my old code wherever I could, but with a clearer understanding of what I wanted to do and how I would achieve it. I started again on 5/15/24 and aim to finish by 5/20/24. The steps I intend to complete are:\n",
    "\n",
    "- Beginning model using rule-based constraints\n",
    "- decision tree\n",
    "- random forest\n",
    "- cleaning and more thorough EDA\n",
    "- rerun dt and rf models\n",
    "- feature engineering\n",
    "- rerun dt and rf models\n",
    "- hyperparamter tuning\n",
    "- final dt and rf models\n",
    "\n",
    "I also intend to submit my models to kaggle with an aim of getting to at least 97.5% accuracy. I am unsure how many times I will submit, but hopefully at least once per data improvement stage."
   ],
   "id": "a7b2a1f500bf5584"
  },
  {
   "metadata": {
    "ExecuteTime": {
     "end_time": "2024-05-16T01:31:37.688908Z",
     "start_time": "2024-05-16T01:31:37.683372Z"
    }
   },
   "cell_type": "code",
   "source": [
    "# Overall\n",
    "\n",
    "overall_survival_rate = sum(train['Survived'])/len(train['Survived'])\n",
    "print(f'The overall survival rate for the test set: {overall_survival_rate:.2%}')"
   ],
   "id": "6e2dec93225441e",
   "outputs": [
    {
     "name": "stdout",
     "output_type": "stream",
     "text": [
      "The overall survival rate for the test set: 38.38%\n"
     ]
    }
   ],
   "execution_count": 23
  },
  {
   "metadata": {},
   "cell_type": "code",
   "outputs": [
    {
     "name": "stdout",
     "output_type": "stream",
     "text": [
      "The percentage of women that survived: 74.20%\n",
      "The percentage of men that survived: 18.89%\n"
     ]
    }
   ],
   "execution_count": 19,
   "source": [
    "# men vs female\n",
    "\n",
    "women = train.loc[train['Sex'] == 'female']['Survived']\n",
    "women_survival_rate = sum(women)/len(women)\n",
    "print(f'The percentage of women that survived: {women_survival_rate:.2%}')\n",
    "\n",
    "men = train.loc[train['Sex'] == 'male']['Survived']\n",
    "men_survival_rate = sum(men)/len(men)\n",
    "print(f'The percentage of men that survived: {men_survival_rate:.2%}')"
   ],
   "id": "db4c873444d0565d"
  },
  {
   "metadata": {},
   "cell_type": "code",
   "outputs": [
    {
     "name": "stdout",
     "output_type": "stream",
     "text": [
      "The percentage of young passengers that survived: 53.98%\n",
      "The percentage of old passengers that survived: 38.10%\n"
     ]
    }
   ],
   "execution_count": 22,
   "source": [
    "# young vs old\n",
    "\n",
    "young = train.loc[train['Age'] < 18]['Survived']\n",
    "young_survival_rate = sum(young)/len(young)\n",
    "print(f'The percentage of young passengers that survived: {young_survival_rate:.2%}')\n",
    "\n",
    "old = train.loc[train['Age'] >= 18]['Survived']\n",
    "old_survival_rate = sum(old)/len(old)\n",
    "print(f'The percentage of old passengers that survived: {old_survival_rate:.2%}')"
   ],
   "id": "b9e2e0f65b33f60b"
  },
  {
   "metadata": {},
   "cell_type": "code",
   "outputs": [],
   "execution_count": null,
   "source": "",
   "id": "33371a5213b7237e"
  },
  {
   "metadata": {},
   "cell_type": "code",
   "outputs": [],
   "execution_count": null,
   "source": "",
   "id": "7656dfdebca4cee2"
  },
  {
   "metadata": {},
   "cell_type": "code",
   "outputs": [],
   "execution_count": null,
   "source": "",
   "id": "c62348d4642933e0"
  },
  {
   "metadata": {},
   "cell_type": "code",
   "outputs": [],
   "execution_count": null,
   "source": "",
   "id": "b9f428e56b51fa31"
  }
 ],
 "metadata": {
  "kernelspec": {
   "display_name": "Python 3",
   "language": "python",
   "name": "python3"
  },
  "language_info": {
   "codemirror_mode": {
    "name": "ipython",
    "version": 2
   },
   "file_extension": ".py",
   "mimetype": "text/x-python",
   "name": "python",
   "nbconvert_exporter": "python",
   "pygments_lexer": "ipython2",
   "version": "2.7.6"
  }
 },
 "nbformat": 4,
 "nbformat_minor": 5
}
