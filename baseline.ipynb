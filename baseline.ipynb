{
 "cells": [
  {
   "cell_type": "code",
   "id": "initial_id",
   "metadata": {
    "collapsed": true,
    "ExecuteTime": {
     "end_time": "2024-05-17T00:24:13.148954Z",
     "start_time": "2024-05-17T00:24:13.143773Z"
    }
   },
   "source": [
    "import pandas as pd\n",
    "from sklearn.metrics import accuracy_score, precision_score, recall_score, f1_score, confusion_matrix"
   ],
   "outputs": [],
   "execution_count": 13
  },
  {
   "metadata": {
    "ExecuteTime": {
     "end_time": "2024-05-17T00:13:37.746786Z",
     "start_time": "2024-05-17T00:13:37.726045Z"
    }
   },
   "cell_type": "code",
   "source": [
    "# Loading datasets\n",
    "train = pd.read_csv('./data/train.csv')\n",
    "test = pd.read_csv('./data/test.csv')"
   ],
   "id": "b7447cc5099163fe",
   "outputs": [],
   "execution_count": 3
  },
  {
   "metadata": {},
   "cell_type": "markdown",
   "source": [
    "# Reasoning\n",
    "\n",
    "After abandoning this project for a long time, I wanted to finish it. However, despite my notes, I was not really sure what my thought process was when I last worked on it. Therefore, I wanted to start the project again, incorporating my old code wherever I could, but with a clearer understanding of what I wanted to do and how I would achieve it. I started again on 5/15/24 and aim to finish by 5/20/24. The steps I intend to complete are:\n",
    "\n",
    "- Beginning model using rule-based constraints\n",
    "- decision tree\n",
    "- random forest\n",
    "- cleaning and more thorough EDA\n",
    "- rerun dt and rf models\n",
    "- feature engineering\n",
    "- rerun dt and rf models\n",
    "- hyperparamter tuning\n",
    "- final dt and rf models\n",
    "\n",
    "I also intend to submit my models to kaggle with an aim of getting to at least 97.5% accuracy. I am unsure how many times I will submit, but hopefully at least once per data improvement stage."
   ],
   "id": "a7b2a1f500bf5584"
  },
  {
   "metadata": {
    "ExecuteTime": {
     "end_time": "2024-05-17T00:13:39.577467Z",
     "start_time": "2024-05-17T00:13:39.571690Z"
    }
   },
   "cell_type": "code",
   "source": [
    "# Overall\n",
    "\n",
    "overall_survival_rate = sum(train['Survived'])/len(train['Survived'])\n",
    "print(f'The overall survival rate for the test set: {overall_survival_rate:.2%}')"
   ],
   "id": "6e2dec93225441e",
   "outputs": [
    {
     "name": "stdout",
     "output_type": "stream",
     "text": [
      "The overall survival rate for the test set: 38.38%\n"
     ]
    }
   ],
   "execution_count": 4
  },
  {
   "metadata": {
    "ExecuteTime": {
     "end_time": "2024-05-17T00:13:41.450077Z",
     "start_time": "2024-05-17T00:13:41.440235Z"
    }
   },
   "cell_type": "code",
   "source": [
    "# men vs female\n",
    "\n",
    "women = train.loc[train['Sex'] == 'female']['Survived']\n",
    "women_survival_rate = sum(women)/len(women)\n",
    "print(f'The percentage of women that survived: {women_survival_rate:.2%}')\n",
    "\n",
    "men = train.loc[train['Sex'] == 'male']['Survived']\n",
    "men_survival_rate = sum(men)/len(men)\n",
    "print(f'The percentage of men that survived: {men_survival_rate:.2%}')"
   ],
   "id": "db4c873444d0565d",
   "outputs": [
    {
     "name": "stdout",
     "output_type": "stream",
     "text": [
      "The percentage of women that survived: 74.20%\n",
      "The percentage of men that survived: 18.89%\n"
     ]
    }
   ],
   "execution_count": 5
  },
  {
   "metadata": {
    "ExecuteTime": {
     "end_time": "2024-05-17T00:13:43.291565Z",
     "start_time": "2024-05-17T00:13:43.283022Z"
    }
   },
   "cell_type": "code",
   "source": [
    "# young vs old\n",
    "\n",
    "young = train.loc[train['Age'] < 16]['Survived']\n",
    "young_survival_rate = sum(young)/len(young)\n",
    "print(f'The percentage of young passengers that survived: {young_survival_rate:.2%}')\n",
    "\n",
    "old = train.loc[train['Age'] >= 16]['Survived']\n",
    "old_survival_rate = sum(old)/len(old)\n",
    "print(f'The percentage of old passengers that survived: {old_survival_rate:.2%}')"
   ],
   "id": "b9e2e0f65b33f60b",
   "outputs": [
    {
     "name": "stdout",
     "output_type": "stream",
     "text": [
      "The percentage of young passengers that survived: 59.04%\n",
      "The percentage of old passengers that survived: 38.19%\n"
     ]
    }
   ],
   "execution_count": 6
  },
  {
   "metadata": {
    "ExecuteTime": {
     "end_time": "2024-05-17T00:13:44.958182Z",
     "start_time": "2024-05-17T00:13:44.947382Z"
    }
   },
   "cell_type": "code",
   "source": [
    "# Women and Children\n",
    "\n",
    "women_and_children = train.loc[(train['Age'] < 16) | (train['Sex'] == 'female')]['Survived']\n",
    "women_and_children_survival_rate = sum(women_and_children)/len(women_and_children)\n",
    "print(f'The percentage of women and children that survived: {women_and_children_survival_rate:.2%}')\n",
    "\n",
    "\n",
    "not_women_and_children = train.loc[~((train['Age'] < 16) | (train['Sex'] == 'female'))]['Survived']\n",
    "not_women_and_children_survival_rate = sum(not_women_and_children)/len(not_women_and_children)\n",
    "print(f'The percentage of older men that survived: {not_women_and_children_survival_rate:.2%}')"
   ],
   "id": "33371a5213b7237e",
   "outputs": [
    {
     "name": "stdout",
     "output_type": "stream",
     "text": [
      "The percentage of women and children that survived: 71.75%\n",
      "The percentage of older men that survived: 16.39%\n"
     ]
    }
   ],
   "execution_count": 7
  },
  {
   "metadata": {
    "ExecuteTime": {
     "end_time": "2024-05-17T00:13:47.328259Z",
     "start_time": "2024-05-17T00:13:47.135956Z"
    }
   },
   "cell_type": "code",
   "source": [
    "# Confusion Matrices\n",
    " \n",
    "pred_women_list = [1 if row['Sex'] == 'female' else 0 for index, row in train.iterrows()]\n",
    "pred_young_list = [1 if row['Age'] < 16 else 0 for index, row in train.iterrows()]\n",
    "pred_women_and_children_list = [1 if (row['Sex'] == 'female' or row['Age'] < 16) else 0 for index, row in train.iterrows()]\n",
    "\n",
    "# add columns into df\n",
    "train['pred_women'], train['pred_young'], train['pred_women_and_children'] = pred_women_list, pred_young_list, pred_women_and_children_list"
   ],
   "id": "7656dfdebca4cee2",
   "outputs": [],
   "execution_count": 8
  },
  {
   "metadata": {
    "ExecuteTime": {
     "end_time": "2024-05-17T00:29:36.025541Z",
     "start_time": "2024-05-17T00:29:36.006623Z"
    }
   },
   "cell_type": "code",
   "source": [
    "# confusion matrix for women rule\n",
    "women_confusion_matrix = confusion_matrix(train['Survived'], train['pred_women'])\n",
    "women_accuracy = accuracy_score(train['Survived'], train['pred_women'])\n",
    "women_precision = precision_score(train['Survived'], train['pred_women'])\n",
    "women_recall = recall_score(train['Survived'], train['pred_women'])\n",
    "women_f1 = f1_score(train['Survived'], train['pred_women'])\n",
    "\n",
    "print('Women Confusion Matrix:\\n', women_confusion_matrix)\n",
    "print(f'Women Accuracy: {women_accuracy:.4f}')\n",
    "print(f'Women Precision: {women_precision:.4f}')\n",
    "print(f'Women Recall: {women_recall:.4f}')\n",
    "print(f'Women F1 Score: {women_f1:.4f}')"
   ],
   "id": "c72c61ea2da22a3b",
   "outputs": [
    {
     "name": "stdout",
     "output_type": "stream",
     "text": [
      "Women Confusion Matrix:\n",
      " [[468  81]\n",
      " [109 233]]\n",
      "Women Accuracy: 0.7868\n",
      "Women Precision: 0.7420\n",
      "Women Recall: 0.6813\n",
      "Women F1 Score: 0.7104\n"
     ]
    }
   ],
   "execution_count": 25
  },
  {
   "metadata": {
    "ExecuteTime": {
     "end_time": "2024-05-17T00:31:00.309307Z",
     "start_time": "2024-05-17T00:31:00.291422Z"
    }
   },
   "cell_type": "code",
   "source": [
    "# confusion matrix for young rule\n",
    "young_confusion_matrix = confusion_matrix(train['Survived'], train['pred_young'])\n",
    "young_accuracy = accuracy_score(train['Survived'], train['pred_young'])\n",
    "young_precision = precision_score(train['Survived'], train['pred_young'])\n",
    "young_recall = recall_score(train['Survived'], train['pred_young'])\n",
    "young_f1 = f1_score(train['Survived'], train['pred_young'])\n",
    "\n",
    "print('Young Confusion Matrix:\\n', young_confusion_matrix)\n",
    "print(f'Young Accuracy: {young_accuracy:.4f}')\n",
    "print(f'Young Precision: {young_precision:.4f}')\n",
    "print(f'Young Recall: {young_recall:.4f}')\n",
    "print(f'Young F1 Score: {young_f1:.4f}')"
   ],
   "id": "377256c03c8bdab5",
   "outputs": [
    {
     "name": "stdout",
     "output_type": "stream",
     "text": [
      "Young Confusion Matrix:\n",
      " [[515  34]\n",
      " [293  49]]\n",
      "Young Accuracy: 0.6330\n",
      "Young Precision: 0.5904\n",
      "Young Recall: 0.1433\n",
      "Young F1 Score: 0.2306\n"
     ]
    }
   ],
   "execution_count": 26
  },
  {
   "metadata": {
    "ExecuteTime": {
     "end_time": "2024-05-17T00:33:25.870453Z",
     "start_time": "2024-05-17T00:33:25.844204Z"
    }
   },
   "cell_type": "code",
   "source": [
    "# confusion matrix for women and children rule\n",
    "women_and_children_confusion_matrix = confusion_matrix(train['Survived'], train['pred_women_and_children'])\n",
    "women_and_children_accuracy = accuracy_score(train['Survived'], train['pred_women_and_children'])\n",
    "women_and_children_precision = precision_score(train['Survived'], train['pred_women_and_children'])\n",
    "women_and_children_recall = recall_score(train['Survived'], train['pred_women_and_children'])\n",
    "women_and_children_f1 = f1_score(train['Survived'], train['pred_women_and_children'])\n",
    "\n",
    "print('Women and Children Confusion Matrix:\\n', women_and_children_confusion_matrix)\n",
    "print(f'Women and Children Accuracy: {women_and_children_accuracy:.4f}')\n",
    "print(f'Women and Children Precision: {women_and_children_precision:.4f}')\n",
    "print(f'Women and Children Recall: {women_and_children_recall:.4f}')\n",
    "print(f'Women and Children F1 Score: {women_and_children_f1:.4f}')"
   ],
   "id": "7c83d06696872ad2",
   "outputs": [
    {
     "name": "stdout",
     "output_type": "stream",
     "text": [
      "Women and Children Confusion Matrix:\n",
      " [[449 100]\n",
      " [ 88 254]]\n",
      "Women and Children Accuracy: 0.7890\n",
      "Women and Children Precision: 0.7175\n",
      "Women and Children Recall: 0.7427\n",
      "Women and Children F1 Score: 0.7299\n"
     ]
    }
   ],
   "execution_count": 27
  },
  {
   "metadata": {},
   "cell_type": "code",
   "outputs": [],
   "execution_count": null,
   "source": "# TODO use filter for test data and upload to kaggle for baseline",
   "id": "c62348d4642933e0"
  },
  {
   "metadata": {},
   "cell_type": "code",
   "outputs": [],
   "execution_count": null,
   "source": "",
   "id": "b9f428e56b51fa31"
  }
 ],
 "metadata": {
  "kernelspec": {
   "display_name": "Python 3",
   "language": "python",
   "name": "python3"
  },
  "language_info": {
   "codemirror_mode": {
    "name": "ipython",
    "version": 2
   },
   "file_extension": ".py",
   "mimetype": "text/x-python",
   "name": "python",
   "nbconvert_exporter": "python",
   "pygments_lexer": "ipython2",
   "version": "2.7.6"
  }
 },
 "nbformat": 4,
 "nbformat_minor": 5
}
