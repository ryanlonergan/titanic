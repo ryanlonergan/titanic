{
 "cells": [
  {
   "cell_type": "code",
   "id": "initial_id",
   "metadata": {
    "collapsed": true,
    "ExecuteTime": {
     "end_time": "2024-05-21T17:54:05.144579Z",
     "start_time": "2024-05-21T17:54:05.137956Z"
    }
   },
   "source": [
    "import numpy as np\n",
    "import pandas as pd\n",
    "from sklearn.metrics import accuracy_score, precision_score, recall_score, f1_score, confusion_matrix"
   ],
   "outputs": [],
   "execution_count": 25
  },
  {
   "metadata": {
    "ExecuteTime": {
     "end_time": "2024-05-21T17:33:22.994274Z",
     "start_time": "2024-05-21T17:33:22.975784Z"
    }
   },
   "cell_type": "code",
   "source": [
    "# Loading datasets\n",
    "train = pd.read_csv('./data/train.csv')\n",
    "test = pd.read_csv('./data/test.csv')"
   ],
   "id": "b7447cc5099163fe",
   "outputs": [],
   "execution_count": 2
  },
  {
   "metadata": {},
   "cell_type": "markdown",
   "source": [
    "# Reasoning\n",
    "\n",
    "After abandoning this project for a long time, I wanted to finish it. However, despite my notes, I was not really sure what my thought process was when I last worked on it. Therefore, I wanted to start the project again, incorporating my old code wherever I could, but with a clearer understanding of what I wanted to do and how I would achieve it. I started again on 5/15/24 and aim to finish by 5/20/24. The steps I intend to complete are:\n",
    "\n",
    "- Beginning model using rule-based constraints\n",
    "- decision tree\n",
    "- random forest\n",
    "- cleaning and more thorough EDA\n",
    "- rerun dt and rf models\n",
    "- feature engineering\n",
    "- rerun dt and rf models\n",
    "- hyperparamter tuning\n",
    "- final dt and rf models\n",
    "\n",
    "I also intend to submit my models to kaggle with an aim of getting to at least 97.5% accuracy. I am unsure how many times I will submit, but hopefully at least once per data improvement stage."
   ],
   "id": "a7b2a1f500bf5584"
  },
  {
   "metadata": {
    "ExecuteTime": {
     "end_time": "2024-05-21T17:33:23.002775Z",
     "start_time": "2024-05-21T17:33:22.995698Z"
    }
   },
   "cell_type": "code",
   "source": [
    "# Overall\n",
    "\n",
    "overall_survival_rate = sum(train['Survived'])/len(train['Survived'])\n",
    "print(f'The overall survival rate for the test set: {overall_survival_rate:.2%}')"
   ],
   "id": "6e2dec93225441e",
   "outputs": [
    {
     "name": "stdout",
     "output_type": "stream",
     "text": [
      "The overall survival rate for the test set: 38.38%\n"
     ]
    }
   ],
   "execution_count": 3
  },
  {
   "metadata": {
    "ExecuteTime": {
     "end_time": "2024-05-21T17:33:23.014622Z",
     "start_time": "2024-05-21T17:33:23.005355Z"
    }
   },
   "cell_type": "code",
   "source": [
    "# men vs female\n",
    "\n",
    "women = train.loc[train['Sex'] == 'female']['Survived']\n",
    "women_survival_rate = sum(women)/len(women)\n",
    "print(f'The percentage of women that survived: {women_survival_rate:.2%}')\n",
    "\n",
    "men = train.loc[train['Sex'] == 'male']['Survived']\n",
    "men_survival_rate = sum(men)/len(men)\n",
    "print(f'The percentage of men that survived: {men_survival_rate:.2%}')"
   ],
   "id": "db4c873444d0565d",
   "outputs": [
    {
     "name": "stdout",
     "output_type": "stream",
     "text": [
      "The percentage of women that survived: 74.20%\n",
      "The percentage of men that survived: 18.89%\n"
     ]
    }
   ],
   "execution_count": 4
  },
  {
   "metadata": {
    "ExecuteTime": {
     "end_time": "2024-05-21T17:33:23.026198Z",
     "start_time": "2024-05-21T17:33:23.016642Z"
    }
   },
   "cell_type": "code",
   "source": [
    "# young vs old\n",
    "\n",
    "young = train.loc[train['Age'] < 16]['Survived']\n",
    "young_survival_rate = sum(young)/len(young)\n",
    "print(f'The percentage of young passengers that survived: {young_survival_rate:.2%}')\n",
    "\n",
    "old = train.loc[train['Age'] >= 16]['Survived']\n",
    "old_survival_rate = sum(old)/len(old)\n",
    "print(f'The percentage of old passengers that survived: {old_survival_rate:.2%}')"
   ],
   "id": "b9e2e0f65b33f60b",
   "outputs": [
    {
     "name": "stdout",
     "output_type": "stream",
     "text": [
      "The percentage of young passengers that survived: 59.04%\n",
      "The percentage of old passengers that survived: 38.19%\n"
     ]
    }
   ],
   "execution_count": 5
  },
  {
   "metadata": {
    "ExecuteTime": {
     "end_time": "2024-05-21T17:33:23.037205Z",
     "start_time": "2024-05-21T17:33:23.028225Z"
    }
   },
   "cell_type": "code",
   "source": [
    "# Women and Children\n",
    "\n",
    "women_and_children = train.loc[(train['Age'] < 16) | (train['Sex'] == 'female')]['Survived']\n",
    "women_and_children_survival_rate = sum(women_and_children)/len(women_and_children)\n",
    "print(f'The percentage of women and children that survived: {women_and_children_survival_rate:.2%}')\n",
    "\n",
    "\n",
    "not_women_and_children = train.loc[~((train['Age'] < 16) | (train['Sex'] == 'female'))]['Survived']\n",
    "not_women_and_children_survival_rate = sum(not_women_and_children)/len(not_women_and_children)\n",
    "print(f'The percentage of older men that survived: {not_women_and_children_survival_rate:.2%}')"
   ],
   "id": "33371a5213b7237e",
   "outputs": [
    {
     "name": "stdout",
     "output_type": "stream",
     "text": [
      "The percentage of women and children that survived: 71.75%\n",
      "The percentage of older men that survived: 16.39%\n"
     ]
    }
   ],
   "execution_count": 6
  },
  {
   "metadata": {
    "ExecuteTime": {
     "end_time": "2024-05-21T17:33:23.187383Z",
     "start_time": "2024-05-21T17:33:23.040416Z"
    }
   },
   "cell_type": "code",
   "source": [
    "# Confusion Matrices\n",
    " \n",
    "pred_women_list = [1 if row['Sex'] == 'female' else 0 for index, row in train.iterrows()]\n",
    "pred_young_list = [1 if row['Age'] < 16 else 0 for index, row in train.iterrows()]\n",
    "pred_women_and_children_list = [1 if (row['Sex'] == 'female' or row['Age'] < 16) else 0 for index, row in train.iterrows()]\n",
    "\n",
    "# add columns into df\n",
    "train['pred_women'], train['pred_young'], train['pred_women_and_children'] = pred_women_list, pred_young_list, pred_women_and_children_list"
   ],
   "id": "7656dfdebca4cee2",
   "outputs": [],
   "execution_count": 7
  },
  {
   "metadata": {
    "ExecuteTime": {
     "end_time": "2024-05-21T17:41:47.014891Z",
     "start_time": "2024-05-21T17:41:47.008954Z"
    }
   },
   "cell_type": "code",
   "source": [
    "def benchmark_metrics(y_true, y_pred, label):\n",
    "    conf_matrix = confusion_matrix(y_true, y_pred)\n",
    "    accuracy = accuracy_score(y_true, y_pred)\n",
    "    precision = precision_score(y_true, y_pred)\n",
    "    recall = recall_score(y_true, y_pred)\n",
    "    f1 = f1_score(y_true, y_pred)\n",
    "    \n",
    "    print(f'{label} Confusion Matrix:\\n', conf_matrix)\n",
    "    print(f'{label} Accuracy: {accuracy:.4f}')\n",
    "    print(f'{label} Precision: {precision:.4f}')\n",
    "    print(f'{label} Recall: {recall:.4f}')\n",
    "    print(f'{label} F1 Score: {f1:.4f}')"
   ],
   "id": "d428631e2675562a",
   "outputs": [],
   "execution_count": 15
  },
  {
   "metadata": {
    "ExecuteTime": {
     "end_time": "2024-05-21T17:42:18.239371Z",
     "start_time": "2024-05-21T17:42:18.215920Z"
    }
   },
   "cell_type": "code",
   "source": [
    "# Benchmark Metrics for Women Rule\n",
    "benchmark_metrics(train['Survived'], train['pred_women'], 'Women')"
   ],
   "id": "6daaf00816652943",
   "outputs": [
    {
     "name": "stdout",
     "output_type": "stream",
     "text": [
      "Women Confusion Matrix:\n",
      " [[468  81]\n",
      " [109 233]]\n",
      "Women Accuracy: 0.7868\n",
      "Women Precision: 0.7420\n",
      "Women Recall: 0.6813\n",
      "Women F1 Score: 0.7104\n"
     ]
    }
   ],
   "execution_count": 16
  },
  {
   "metadata": {
    "ExecuteTime": {
     "end_time": "2024-05-21T17:43:18.682923Z",
     "start_time": "2024-05-21T17:43:18.665116Z"
    }
   },
   "cell_type": "code",
   "source": [
    "# Benchmark Metrics for Young Rule\n",
    "benchmark_metrics(train['Survived'], train['pred_young'], 'Young')"
   ],
   "id": "c72c61ea2da22a3b",
   "outputs": [
    {
     "name": "stdout",
     "output_type": "stream",
     "text": [
      "Young Confusion Matrix:\n",
      " [[515  34]\n",
      " [293  49]]\n",
      "Young Accuracy: 0.6330\n",
      "Young Precision: 0.5904\n",
      "Young Recall: 0.1433\n",
      "Young F1 Score: 0.2306\n"
     ]
    }
   ],
   "execution_count": 17
  },
  {
   "metadata": {
    "ExecuteTime": {
     "end_time": "2024-05-21T17:43:41.362670Z",
     "start_time": "2024-05-21T17:43:41.345812Z"
    }
   },
   "cell_type": "code",
   "source": [
    "# Benchmark Metrics for Women and Children Rule\n",
    "benchmark_metrics(train['Survived'], train['pred_women_and_children'], 'Women and Children')"
   ],
   "id": "377256c03c8bdab5",
   "outputs": [
    {
     "name": "stdout",
     "output_type": "stream",
     "text": [
      "Women and Children Confusion Matrix:\n",
      " [[449 100]\n",
      " [ 88 254]]\n",
      "Women and Children Accuracy: 0.7890\n",
      "Women and Children Precision: 0.7175\n",
      "Women and Children Recall: 0.7427\n",
      "Women and Children F1 Score: 0.7299\n"
     ]
    }
   ],
   "execution_count": 18
  },
  {
   "metadata": {},
   "cell_type": "markdown",
   "source": "Not a great improvement over just women, but does increase accuracy slightly. Precision is lower, indicating more false positives, so maybe age isn't the best indicator for survival",
   "id": "f69ac378f8855add"
  },
  {
   "metadata": {
    "ExecuteTime": {
     "end_time": "2024-05-21T17:33:32.951635Z",
     "start_time": "2024-05-21T17:33:32.918879Z"
    }
   },
   "cell_type": "code",
   "source": [
    "# creating predictions for test data\n",
    "pred_test_list = [1 if (row['Sex'] == 'female' or row['Age'] < 16) else 0 for index, row in test.iterrows()]\n",
    "\n",
    "# putting the predictions in the correct format for Kaggle\n",
    "submission = pd.DataFrame({'PassengerId': test['PassengerId'], 'Survived': pred_test_list})\n",
    "submission.to_csv('./submissions/women_and_children_submission.csv', index=False)"
   ],
   "id": "c62348d4642933e0",
   "outputs": [],
   "execution_count": 11
  },
  {
   "metadata": {},
   "cell_type": "markdown",
   "source": "The rule based predictions for the adage \"women and children first\" scored 0.75837. This score is not great, but it is a baseline and will hopefully improve as I continue my work.",
   "id": "293379f286d28634"
  },
  {
   "metadata": {
    "ExecuteTime": {
     "end_time": "2024-05-21T18:02:02.678056Z",
     "start_time": "2024-05-21T18:02:02.665386Z"
    }
   },
   "cell_type": "code",
   "source": [
    "# train test split\n",
    "\n",
    "from sklearn.model_selection import train_test_split\n",
    "\n",
    "train_columns = train.drop(columns=['Survived', 'Name', 'Ticket', 'Cabin'], axis=1)\n",
    "train_data = pd.get_dummies(train_columns)\n",
    "test_data = train['Survived']\n",
    "\n",
    "X_train, X_test, y_train, y_test = train_test_split(train_data, test_data, test_size=0.2)"
   ],
   "id": "9de9c9d15714861e",
   "outputs": [],
   "execution_count": 35
  },
  {
   "metadata": {
    "ExecuteTime": {
     "end_time": "2024-05-21T18:02:15.458727Z",
     "start_time": "2024-05-21T18:02:15.431455Z"
    }
   },
   "cell_type": "code",
   "source": [
    "# decision tree\n",
    "\n",
    "from sklearn.tree import DecisionTreeClassifier\n",
    "\n",
    "dt_classifier = DecisionTreeClassifier()\n",
    "\n",
    "dt_classifier.fit(X_train, y_train)\n",
    "\n",
    "y_pred_dt = dt_classifier.predict(X_test)\n",
    "\n",
    "benchmark_metrics(y_test, y_pred_dt, 'Decision Tree')"
   ],
   "id": "49eccae7cb4802cc",
   "outputs": [
    {
     "name": "stdout",
     "output_type": "stream",
     "text": [
      "Decision Tree Confusion Matrix:\n",
      " [[90 25]\n",
      " [19 45]]\n",
      "Decision Tree Accuracy: 0.7542\n",
      "Decision Tree Precision: 0.6429\n",
      "Decision Tree Recall: 0.7031\n",
      "Decision Tree F1 Score: 0.6716\n"
     ]
    }
   ],
   "execution_count": 39
  },
  {
   "metadata": {
    "ExecuteTime": {
     "end_time": "2024-05-21T18:02:21.187072Z",
     "start_time": "2024-05-21T18:02:20.938388Z"
    }
   },
   "cell_type": "code",
   "source": [
    "# random forest\n",
    "\n",
    "from sklearn.ensemble import RandomForestClassifier\n",
    "\n",
    "rf_classifier = RandomForestClassifier()\n",
    "\n",
    "rf_classifier.fit(X_train, y_train)\n",
    "\n",
    "y_pred_rf = rf_classifier.predict(X_test)\n",
    "\n",
    "benchmark_metrics(y_test, y_pred_rf, 'Random Forest')"
   ],
   "id": "e8e36af7ec9fda8c",
   "outputs": [
    {
     "name": "stdout",
     "output_type": "stream",
     "text": [
      "Random Forest Confusion Matrix:\n",
      " [[107   8]\n",
      " [ 19  45]]\n",
      "Random Forest Accuracy: 0.8492\n",
      "Random Forest Precision: 0.8491\n",
      "Random Forest Recall: 0.7031\n",
      "Random Forest F1 Score: 0.7692\n"
     ]
    }
   ],
   "execution_count": 42
  },
  {
   "metadata": {
    "ExecuteTime": {
     "end_time": "2024-05-21T18:02:23.337915Z",
     "start_time": "2024-05-21T18:02:23.236832Z"
    }
   },
   "cell_type": "code",
   "source": [
    "# Xgboost\n",
    "\n",
    "from xgboost import XGBClassifier\n",
    "\n",
    "xgb_classifier = XGBClassifier()\n",
    "\n",
    "xgb_classifier.fit(X_train, y_train)\n",
    "\n",
    "y_pred_xgb = xgb_classifier.predict(X_test)\n",
    "\n",
    "benchmark_metrics(y_test, y_pred_xgb, 'Gradient Boosting')"
   ],
   "id": "cf52bfe0c1a63be9",
   "outputs": [
    {
     "name": "stdout",
     "output_type": "stream",
     "text": [
      "Gradient Boosting Confusion Matrix:\n",
      " [[104  11]\n",
      " [ 18  46]]\n",
      "Gradient Boosting Accuracy: 0.8380\n",
      "Gradient Boosting Precision: 0.8070\n",
      "Gradient Boosting Recall: 0.7188\n",
      "Gradient Boosting F1 Score: 0.7603\n"
     ]
    }
   ],
   "execution_count": 43
  },
  {
   "metadata": {},
   "cell_type": "code",
   "outputs": [],
   "execution_count": null,
   "source": "",
   "id": "141a25bf6fd31cb9"
  }
 ],
 "metadata": {
  "kernelspec": {
   "display_name": "Python 3",
   "language": "python",
   "name": "python3"
  },
  "language_info": {
   "codemirror_mode": {
    "name": "ipython",
    "version": 2
   },
   "file_extension": ".py",
   "mimetype": "text/x-python",
   "name": "python",
   "nbconvert_exporter": "python",
   "pygments_lexer": "ipython2",
   "version": "2.7.6"
  }
 },
 "nbformat": 4,
 "nbformat_minor": 5
}
