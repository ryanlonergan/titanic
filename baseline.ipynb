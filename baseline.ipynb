{
 "cells": [
  {
   "cell_type": "code",
   "id": "initial_id",
   "metadata": {
    "collapsed": true,
    "ExecuteTime": {
     "end_time": "2024-05-28T01:50:13.684356Z",
     "start_time": "2024-05-28T01:50:08.025158Z"
    }
   },
   "source": [
    "import pandas as pd\n",
    "from metrics import evaluate_model"
   ],
   "outputs": [],
   "execution_count": 1
  },
  {
   "metadata": {
    "ExecuteTime": {
     "end_time": "2024-05-28T01:50:15.968910Z",
     "start_time": "2024-05-28T01:50:15.943603Z"
    }
   },
   "cell_type": "code",
   "source": [
    "# Loading datasets\n",
    "train = pd.read_csv('./data/train.csv')\n",
    "test = pd.read_csv('./data/test.csv')"
   ],
   "id": "b7447cc5099163fe",
   "outputs": [],
   "execution_count": 2
  },
  {
   "metadata": {},
   "cell_type": "markdown",
   "source": [
    "# Reasoning\n",
    "\n",
    "After abandoning this project for a long time, I wanted to finish it. However, despite my notes, I was not really sure what my thought process was when I last worked on it. Therefore, I wanted to start the project again, incorporating my old code wherever I could, but with a clearer understanding of what I wanted to do and how I would achieve it. I started again on 5/15/24 and aim to finish by 5/27/24. The steps I intend to complete are:\n",
    "\n",
    "- Beginning model using rule-based constraints\n",
    "- decision tree\n",
    "- random forest\n",
    "- cleaning and more thorough EDA\n",
    "- rerun dt and rf models\n",
    "- feature engineering\n",
    "- rerun dt and rf models\n",
    "- hyperparameter tuning\n",
    "- final dt and rf models\n",
    "\n",
    "I also intend to submit my models to kaggle with an aim of getting to at least 90% accuracy. I am unsure how many times I will submit, but hopefully at least once per data improvement stage."
   ],
   "id": "a7b2a1f500bf5584"
  },
  {
   "metadata": {
    "ExecuteTime": {
     "end_time": "2024-05-28T01:50:18.416854Z",
     "start_time": "2024-05-28T01:50:18.411327Z"
    }
   },
   "cell_type": "code",
   "source": [
    "# Overall\n",
    "\n",
    "overall_survival_rate = sum(train['Survived'])/len(train['Survived'])\n",
    "print(f'The overall survival rate for the test set: {overall_survival_rate:.2%}')"
   ],
   "id": "6e2dec93225441e",
   "outputs": [
    {
     "name": "stdout",
     "output_type": "stream",
     "text": [
      "The overall survival rate for the test set: 38.38%\n"
     ]
    }
   ],
   "execution_count": 3
  },
  {
   "metadata": {
    "ExecuteTime": {
     "end_time": "2024-05-28T01:50:20.877701Z",
     "start_time": "2024-05-28T01:50:20.868630Z"
    }
   },
   "cell_type": "code",
   "source": [
    "# men vs female\n",
    "\n",
    "women = train.loc[train['Sex'] == 'female']['Survived']\n",
    "women_survival_rate = sum(women)/len(women)\n",
    "print(f'The percentage of women that survived: {women_survival_rate:.2%}')\n",
    "\n",
    "men = train.loc[train['Sex'] == 'male']['Survived']\n",
    "men_survival_rate = sum(men)/len(men)\n",
    "print(f'The percentage of men that survived: {men_survival_rate:.2%}')"
   ],
   "id": "db4c873444d0565d",
   "outputs": [
    {
     "name": "stdout",
     "output_type": "stream",
     "text": [
      "The percentage of women that survived: 74.20%\n",
      "The percentage of men that survived: 18.89%\n"
     ]
    }
   ],
   "execution_count": 4
  },
  {
   "metadata": {
    "ExecuteTime": {
     "end_time": "2024-05-28T01:52:47.779001Z",
     "start_time": "2024-05-28T01:52:47.769618Z"
    }
   },
   "cell_type": "code",
   "source": [
    "# young vs old\n",
    "\n",
    "children = train.loc[train['Age'] < 16]['Survived']\n",
    "children_survival_rate = sum(children)/len(children)\n",
    "print(f'The percentage of child passengers that survived: {children_survival_rate:.2%}')\n",
    "\n",
    "adults = train.loc[train['Age'] >= 16]['Survived']\n",
    "adults_survival_rate = sum(adults)/len(adults)\n",
    "print(f'The percentage of adult passengers that survived: {adults_survival_rate:.2%}')"
   ],
   "id": "b9e2e0f65b33f60b",
   "outputs": [
    {
     "name": "stdout",
     "output_type": "stream",
     "text": [
      "The percentage of child passengers that survived: 59.04%\n",
      "The percentage of adult passengers that survived: 38.19%\n"
     ]
    }
   ],
   "execution_count": 13
  },
  {
   "metadata": {
    "ExecuteTime": {
     "end_time": "2024-05-28T01:53:02.348554Z",
     "start_time": "2024-05-28T01:53:02.339672Z"
    }
   },
   "cell_type": "code",
   "source": [
    "# Women and Children\n",
    "\n",
    "women_and_children = train.loc[(train['Age'] < 16) | (train['Sex'] == 'female')]['Survived']\n",
    "women_and_children_survival_rate = sum(women_and_children)/len(women_and_children)\n",
    "print(f'The percentage of women and children that survived: {women_and_children_survival_rate:.2%}')\n",
    "\n",
    "\n",
    "not_women_and_children = train.loc[~((train['Age'] < 16) | (train['Sex'] == 'female'))]['Survived']\n",
    "not_women_and_children_survival_rate = sum(not_women_and_children)/len(not_women_and_children)\n",
    "print(f'The percentage of adult men that survived: {not_women_and_children_survival_rate:.2%}')"
   ],
   "id": "33371a5213b7237e",
   "outputs": [
    {
     "name": "stdout",
     "output_type": "stream",
     "text": [
      "The percentage of women and children that survived: 71.75%\n",
      "The percentage of adult men that survived: 16.39%\n"
     ]
    }
   ],
   "execution_count": 15
  },
  {
   "metadata": {
    "ExecuteTime": {
     "end_time": "2024-05-28T01:53:10.432496Z",
     "start_time": "2024-05-28T01:53:10.290197Z"
    }
   },
   "cell_type": "code",
   "source": [
    "# Predictions for Train Data\n",
    "pred_women_list = [1 if row['Sex'] == 'female' else 0 for index, row in train.iterrows()]\n",
    "pred_children_list = [1 if row['Age'] < 16 else 0 for index, row in train.iterrows()]\n",
    "pred_women_and_children_list = [1 if (row['Sex'] == 'female' or row['Age'] < 16) else 0 for index, row in train.iterrows()]\n",
    "\n",
    "# add columns into df\n",
    "train['pred_women'], train['pred_children'], train['pred_women_and_children'] = pred_women_list, pred_children_list, pred_women_and_children_list"
   ],
   "id": "7656dfdebca4cee2",
   "outputs": [],
   "execution_count": 16
  },
  {
   "metadata": {
    "ExecuteTime": {
     "end_time": "2024-05-28T01:53:12.596527Z",
     "start_time": "2024-05-28T01:53:12.577407Z"
    }
   },
   "cell_type": "code",
   "source": [
    "# Evaluate Model for Women Rule\n",
    "evaluate_model(train['Survived'], train['pred_women'], 'Women')"
   ],
   "id": "6daaf00816652943",
   "outputs": [
    {
     "name": "stdout",
     "output_type": "stream",
     "text": [
      "Women Confusion Matrix:\n",
      " [[468  81]\n",
      " [109 233]]\n",
      "Women Accuracy: 0.7868\n",
      "Women Precision: 0.7420\n",
      "Women Recall: 0.6813\n",
      "Women F1 Score: 0.7104\n"
     ]
    }
   ],
   "execution_count": 17
  },
  {
   "metadata": {
    "ExecuteTime": {
     "end_time": "2024-05-28T01:53:38.258037Z",
     "start_time": "2024-05-28T01:53:38.236203Z"
    }
   },
   "cell_type": "code",
   "source": [
    "# Evaluate Model for Children Rule\n",
    "evaluate_model(train['Survived'], train['pred_children'], 'Children')"
   ],
   "id": "c72c61ea2da22a3b",
   "outputs": [
    {
     "name": "stdout",
     "output_type": "stream",
     "text": [
      "Children Confusion Matrix:\n",
      " [[515  34]\n",
      " [293  49]]\n",
      "Children Accuracy: 0.6330\n",
      "Children Precision: 0.5904\n",
      "Children Recall: 0.1433\n",
      "Children F1 Score: 0.2306\n"
     ]
    }
   ],
   "execution_count": 19
  },
  {
   "metadata": {
    "ExecuteTime": {
     "end_time": "2024-05-28T01:53:46.734723Z",
     "start_time": "2024-05-28T01:53:46.713650Z"
    }
   },
   "cell_type": "code",
   "source": [
    "# Evaluate Model for Women and Children Rule\n",
    "evaluate_model(train['Survived'], train['pred_women_and_children'], 'Women and Children')"
   ],
   "id": "377256c03c8bdab5",
   "outputs": [
    {
     "name": "stdout",
     "output_type": "stream",
     "text": [
      "Women and Children Confusion Matrix:\n",
      " [[449 100]\n",
      " [ 88 254]]\n",
      "Women and Children Accuracy: 0.7890\n",
      "Women and Children Precision: 0.7175\n",
      "Women and Children Recall: 0.7427\n",
      "Women and Children F1 Score: 0.7299\n"
     ]
    }
   ],
   "execution_count": 21
  },
  {
   "metadata": {},
   "cell_type": "markdown",
   "source": "Not a great improvement over just women, but does increase accuracy slightly. Precision is lower, indicating more false positives, so maybe age isn't the best indicator for survival",
   "id": "f69ac378f8855add"
  },
  {
   "metadata": {
    "ExecuteTime": {
     "end_time": "2024-05-21T17:33:32.951635Z",
     "start_time": "2024-05-21T17:33:32.918879Z"
    }
   },
   "cell_type": "code",
   "source": [
    "# creating predictions for test data\n",
    "pred_test_list = [1 if (row['Sex'] == 'female' or row['Age'] < 16) else 0 for index, row in test.iterrows()]\n",
    "\n",
    "# putting the predictions in the correct format for Kaggle\n",
    "submission = pd.DataFrame({'PassengerId': test['PassengerId'], 'Survived': pred_test_list})\n",
    "submission.to_csv('./submissions/women_and_children_submission.csv', index=False)"
   ],
   "id": "c62348d4642933e0",
   "outputs": [],
   "execution_count": 11
  },
  {
   "metadata": {},
   "cell_type": "markdown",
   "source": "The rule based predictions for the adage \"women and children first\" scored 0.75837. This score is not great, but it is a baseline and will hopefully improve as I continue my work.",
   "id": "293379f286d28634"
  },
  {
   "metadata": {
    "ExecuteTime": {
     "end_time": "2024-05-21T18:11:15.515327Z",
     "start_time": "2024-05-21T18:11:15.501627Z"
    }
   },
   "cell_type": "code",
   "source": [
    "# train test split\n",
    "\n",
    "from sklearn.model_selection import train_test_split\n",
    "\n",
    "train_columns = train.drop(columns=['Survived', 'Name', 'Ticket', 'Cabin'], axis=1)\n",
    "train_data = pd.get_dummies(train_columns)\n",
    "test_data = train['Survived']\n",
    "\n",
    "X_train, X_test, y_train, y_test = train_test_split(train_data, test_data, test_size=0.2)"
   ],
   "id": "9de9c9d15714861e",
   "outputs": [],
   "execution_count": 49
  },
  {
   "metadata": {
    "ExecuteTime": {
     "end_time": "2024-05-21T18:11:17.547612Z",
     "start_time": "2024-05-21T18:11:17.524050Z"
    }
   },
   "cell_type": "code",
   "source": [
    "# decision tree\n",
    "\n",
    "from sklearn.tree import DecisionTreeClassifier\n",
    "\n",
    "dt_classifier = DecisionTreeClassifier()\n",
    "\n",
    "dt_classifier.fit(X_train, y_train)\n",
    "\n",
    "y_pred_dt = dt_classifier.predict(X_test)\n",
    "\n",
    "benchmark_metrics(y_test, y_pred_dt, 'Decision Tree')"
   ],
   "id": "49eccae7cb4802cc",
   "outputs": [
    {
     "name": "stdout",
     "output_type": "stream",
     "text": [
      "Decision Tree Confusion Matrix:\n",
      " [[90 28]\n",
      " [23 38]]\n",
      "Decision Tree Accuracy: 0.7151\n",
      "Decision Tree Precision: 0.5758\n",
      "Decision Tree Recall: 0.6230\n",
      "Decision Tree F1 Score: 0.5984\n"
     ]
    }
   ],
   "execution_count": 50
  },
  {
   "metadata": {
    "ExecuteTime": {
     "end_time": "2024-05-21T18:17:31.923061Z",
     "start_time": "2024-05-21T18:17:31.614332Z"
    }
   },
   "cell_type": "code",
   "source": [
    "# random forest\n",
    "\n",
    "from sklearn.ensemble import RandomForestClassifier\n",
    "\n",
    "rf_classifier = RandomForestClassifier()\n",
    "\n",
    "rf_classifier.fit(X_train, y_train)\n",
    "\n",
    "y_pred_rf = rf_classifier.predict(X_test)\n",
    "\n",
    "benchmark_metrics(y_test, y_pred_rf, 'Random Forest')"
   ],
   "id": "e8e36af7ec9fda8c",
   "outputs": [
    {
     "name": "stdout",
     "output_type": "stream",
     "text": [
      "Random Forest Confusion Matrix:\n",
      " [[102  16]\n",
      " [ 19  42]]\n",
      "Random Forest Accuracy: 0.8045\n",
      "Random Forest Precision: 0.7241\n",
      "Random Forest Recall: 0.6885\n",
      "Random Forest F1 Score: 0.7059\n"
     ]
    }
   ],
   "execution_count": 56
  },
  {
   "metadata": {
    "ExecuteTime": {
     "end_time": "2024-05-21T18:11:22.186072Z",
     "start_time": "2024-05-21T18:11:22.093630Z"
    }
   },
   "cell_type": "code",
   "source": [
    "# Xgboost\n",
    "\n",
    "from xgboost import XGBClassifier\n",
    "\n",
    "xgb_classifier = XGBClassifier()\n",
    "\n",
    "xgb_classifier.fit(X_train, y_train)\n",
    "\n",
    "y_pred_xgb = xgb_classifier.predict(X_test)\n",
    "\n",
    "benchmark_metrics(y_test, y_pred_xgb, 'Gradient Boosting')"
   ],
   "id": "cf52bfe0c1a63be9",
   "outputs": [
    {
     "name": "stdout",
     "output_type": "stream",
     "text": [
      "Gradient Boosting Confusion Matrix:\n",
      " [[95 23]\n",
      " [19 42]]\n",
      "Gradient Boosting Accuracy: 0.7654\n",
      "Gradient Boosting Precision: 0.6462\n",
      "Gradient Boosting Recall: 0.6885\n",
      "Gradient Boosting F1 Score: 0.6667\n"
     ]
    }
   ],
   "execution_count": 52
  },
  {
   "metadata": {
    "ExecuteTime": {
     "end_time": "2024-05-21T18:13:11.724869Z",
     "start_time": "2024-05-21T18:13:11.689623Z"
    }
   },
   "cell_type": "code",
   "source": [
    "test_submission = test.drop(columns=['Name', 'Ticket', 'Cabin'], axis=1)\n",
    "test_submission = pd.get_dummies(test_submission)\n",
    "\n",
    "simple_rf_predictions = rf_classifier.predict(test_submission)\n",
    "\n",
    "simple_rf_submission = pd.DataFrame({'PassengerId': test['PassengerId'], 'Survived': simple_rf_predictions})\n",
    "simple_rf_submission.to_csv('./submissions/simple_rf_submission.csv', index=False)"
   ],
   "id": "141a25bf6fd31cb9",
   "outputs": [],
   "execution_count": 55
  },
  {
   "metadata": {},
   "cell_type": "markdown",
   "source": [
    "Interestingly, the simple random forest model had the same score as my women and children rule based model at 0.75837. I checked to make sure the files were different and I didn't upload the wrong one as well.\n",
    "\n",
    "Hopefully the score improves as I update the models."
   ],
   "id": "e5a8d9e05b7465c"
  },
  {
   "metadata": {},
   "cell_type": "code",
   "outputs": [],
   "execution_count": null,
   "source": "",
   "id": "e33c2b9aba7bd11c"
  }
 ],
 "metadata": {
  "kernelspec": {
   "display_name": "Python 3",
   "language": "python",
   "name": "python3"
  },
  "language_info": {
   "codemirror_mode": {
    "name": "ipython",
    "version": 2
   },
   "file_extension": ".py",
   "mimetype": "text/x-python",
   "name": "python",
   "nbconvert_exporter": "python",
   "pygments_lexer": "ipython2",
   "version": "2.7.6"
  }
 },
 "nbformat": 4,
 "nbformat_minor": 5
}
